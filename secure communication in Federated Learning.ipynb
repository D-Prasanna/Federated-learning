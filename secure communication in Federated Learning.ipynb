{
 "cells": [
  {
   "cell_type": "code",
   "execution_count": 7,
   "id": "979772c5-9ad8-4ff4-b4a6-7117a1bab59f",
   "metadata": {},
   "outputs": [
    {
     "name": "stdout",
     "output_type": "stream",
     "text": [
      "Client Updates (original):\n",
      "Client 1: [0.12399584 0.5912612  0.00124619 0.1935042  0.96519322]\n",
      "Client 2: [0.83714278 0.42288568 0.83671578 0.37253776 0.85427903]\n",
      "Client 3: [0.67526861 0.67121011 0.34039998 0.20446692 0.13474787]\n"
     ]
    }
   ],
   "source": [
    "import numpy as np\n",
    "\n",
    "# Simulate 3 clients, each with their own local model update (weights)\n",
    "num_clients = 3\n",
    "model_dim = 5  # example model with 5 parameters\n",
    "\n",
    "# Clients generate random model updates\n",
    "client_updates = [np.random.rand(model_dim) for _ in range(num_clients)]\n",
    "\n",
    "print(\"Client Updates (original):\")\n",
    "for i, update in enumerate(client_updates):\n",
    "    print(f\"Client {i+1}:\", update)\n"
   ]
  },
  {
   "cell_type": "code",
   "execution_count": 9,
   "id": "19563c98-45bd-400b-bd8c-9a40a5d1f919",
   "metadata": {},
   "outputs": [
    {
     "name": "stdout",
     "output_type": "stream",
     "text": [
      "\n",
      "Masked Updates (sent to server):\n",
      "Client 1: [ 1.21581244  0.58539925 -0.20581144  0.69571031  1.05448949]\n",
      "Client 2: [-0.09802374  0.70029512  0.52968995  0.15305303  0.37228872]\n",
      "Client 3: [ 0.51861854  0.39966261  0.85448343 -0.07825447  0.52744191]\n"
     ]
    }
   ],
   "source": [
    "# Simulate pairwise masks for secure aggregation\n",
    "def generate_pairwise_masks(num_clients, dim):\n",
    "    masks = [[np.random.rand(dim) for _ in range(num_clients)] for _ in range(num_clients)]\n",
    "    return masks\n",
    "\n",
    "pairwise_masks = generate_pairwise_masks(num_clients, model_dim)\n",
    "\n",
    "# Each client applies masks\n",
    "masked_updates = []\n",
    "for i in range(num_clients):\n",
    "    masked_update = client_updates[i].copy()\n",
    "    for j in range(num_clients):\n",
    "        if i != j:\n",
    "            masked_update += pairwise_masks[i][j]  # add mask\n",
    "            masked_update -= pairwise_masks[j][i]  # subtract peer's shared mask\n",
    "    masked_updates.append(masked_update)\n",
    "\n",
    "print(\"\\nMasked Updates (sent to server):\")\n",
    "for i, update in enumerate(masked_updates):\n",
    "    print(f\"Client {i+1}:\", update)\n"
   ]
  },
  {
   "cell_type": "code",
   "execution_count": 11,
   "id": "f9cd66c8-1dc2-4cf7-b97e-5c7ff2cf4a33",
   "metadata": {},
   "outputs": [
    {
     "name": "stdout",
     "output_type": "stream",
     "text": [
      "\n",
      "Aggregated Update at Server (after Secure Aggregation):\n",
      "[1.63640724 1.68535699 1.17836195 0.77050888 1.95422013]\n",
      "\n",
      "True Aggregation (for validation):\n",
      "[1.63640724 1.68535699 1.17836195 0.77050888 1.95422013]\n",
      "\n",
      "Difference: [2.22044605e-16 0.00000000e+00 0.00000000e+00 0.00000000e+00\n",
      " 0.00000000e+00]\n"
     ]
    }
   ],
   "source": [
    "# Server aggregates masked updates\n",
    "aggregated_update = np.sum(masked_updates, axis=0)\n",
    "\n",
    "print(\"\\nAggregated Update at Server (after Secure Aggregation):\")\n",
    "print(aggregated_update)\n",
    "\n",
    "# Ground truth: expected result if no masks were used\n",
    "true_aggregation = np.sum(client_updates, axis=0)\n",
    "\n",
    "print(\"\\nTrue Aggregation (for validation):\")\n",
    "print(true_aggregation)\n",
    "\n",
    "# Verify if Secure Aggregation worked\n",
    "print(\"\\nDifference:\", np.abs(aggregated_update - true_aggregation))\n"
   ]
  },
  {
   "cell_type": "code",
   "execution_count": null,
   "id": "6ca10697-3b15-4e78-b40a-a77672f57795",
   "metadata": {},
   "outputs": [],
   "source": []
  }
 ],
 "metadata": {
  "kernelspec": {
   "display_name": "Python 3 (ipykernel)",
   "language": "python",
   "name": "python3"
  },
  "language_info": {
   "codemirror_mode": {
    "name": "ipython",
    "version": 3
   },
   "file_extension": ".py",
   "mimetype": "text/x-python",
   "name": "python",
   "nbconvert_exporter": "python",
   "pygments_lexer": "ipython3",
   "version": "3.12.7"
  }
 },
 "nbformat": 4,
 "nbformat_minor": 5
}
