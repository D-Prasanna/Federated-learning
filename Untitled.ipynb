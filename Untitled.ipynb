{
 "cells": [
  {
   "cell_type": "code",
   "execution_count": 1,
   "id": "8e00e659-c708-4abd-9c2f-417c42e35401",
   "metadata": {},
   "outputs": [
    {
     "name": "stdout",
     "output_type": "stream",
     "text": [
      "Collecting tenseal\n",
      "  Downloading tenseal-0.3.16-cp312-cp312-win_amd64.whl.metadata (8.6 kB)\n",
      "Downloading tenseal-0.3.16-cp312-cp312-win_amd64.whl (2.2 MB)\n",
      "   ---------------------------------------- 0.0/2.2 MB ? eta -:--:--\n",
      "   ------------------- -------------------- 1.0/2.2 MB 7.2 MB/s eta 0:00:01\n",
      "   ---------------------------------------- 2.2/2.2 MB 6.8 MB/s eta 0:00:00\n",
      "Installing collected packages: tenseal\n",
      "Successfully installed tenseal-0.3.16\n"
     ]
    }
   ],
   "source": [
    "!pip install tenseal\n"
   ]
  },
  {
   "cell_type": "code",
   "execution_count": 3,
   "id": "df065464-5a23-497c-be92-7a0698d5a2b0",
   "metadata": {},
   "outputs": [
    {
     "name": "stdout",
     "output_type": "stream",
     "text": [
      "\n",
      "Decrypted Aggregated Result (Homomorphic Encryption):\n",
      "[1.0006978320469597, 2.3986287811566234, 6.799567795639408, 4.402397065305505, 1.4040956700161535]\n"
     ]
    }
   ],
   "source": [
    "import tenseal as ts\n",
    "\n",
    "# Create encryption context\n",
    "context = ts.context(\n",
    "    ts.SCHEME_TYPE.CKKS,\n",
    "    poly_modulus_degree=8192,\n",
    "    coeff_mod_bit_sizes=[40, 20, 40]\n",
    ")\n",
    "context.global_scale = 2**20\n",
    "context.generate_galois_keys()\n",
    "\n",
    "# Simulate one client's update\n",
    "client_update = [0.5, 1.2, 3.4, 2.2, 0.7]\n",
    "\n",
    "# Encrypt the update\n",
    "encrypted_vector = ts.ckks_vector(context, client_update)\n",
    "\n",
    "# Send encrypted vector to server and aggregate (simulate server addition)\n",
    "# In real scenario, aggregate multiple encrypted vectors\n",
    "server_result = encrypted_vector + encrypted_vector  # as if 2 same updates\n",
    "\n",
    "# Decrypt at client side\n",
    "decrypted = server_result.decrypt()\n",
    "print(\"\\nDecrypted Aggregated Result (Homomorphic Encryption):\")\n",
    "print(decrypted)\n"
   ]
  },
  {
   "cell_type": "code",
   "execution_count": null,
   "id": "6c269851-0bfa-400f-adc9-80aaccf3825f",
   "metadata": {},
   "outputs": [],
   "source": []
  }
 ],
 "metadata": {
  "kernelspec": {
   "display_name": "Python 3 (ipykernel)",
   "language": "python",
   "name": "python3"
  },
  "language_info": {
   "codemirror_mode": {
    "name": "ipython",
    "version": 3
   },
   "file_extension": ".py",
   "mimetype": "text/x-python",
   "name": "python",
   "nbconvert_exporter": "python",
   "pygments_lexer": "ipython3",
   "version": "3.12.7"
  }
 },
 "nbformat": 4,
 "nbformat_minor": 5
}
